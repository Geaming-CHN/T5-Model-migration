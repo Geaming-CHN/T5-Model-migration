{
 "cells": [
  {
   "cell_type": "code",
   "execution_count": 7,
   "metadata": {},
   "outputs": [
    {
     "data": {
      "text/plain": [
       "'\\nT5Tokenizer迁移\\n'"
      ]
     },
     "execution_count": 7,
     "metadata": {},
     "output_type": "execute_result"
    }
   ],
   "source": [
    "r\"\"\"\n",
    "T5Tokenizer迁移\n",
    "\"\"\""
   ]
  },
  {
   "cell_type": "code",
   "execution_count": 8,
   "metadata": {},
   "outputs": [],
   "source": [
    "import os\n",
    "from mindnlp.configs import DEFAULT_ROOT\n",
    "from mindnlp.utils.download import cache_file\n",
    "from tokenizers import Tokenizer, models\n",
    "\n",
    "URL = {\n",
    "    \"t5-small\": \"https://huggingface.co/t5-small/resolve/main/tokenizer.json\",\n",
    "    \"t5-base\": \"https://huggingface.co/t5-base/resolve/main/tokenizer.json\",\n",
    "    \"t5-large\": \"https://huggingface.co/t5-large/resolve/main/tokenizer.json\",\n",
    "    \"t5-3b\": \"https://huggingface.co/t5-3b/resolve/main/tokenizer.json\",\n",
    "    \"t5-11b\": \"https://huggingface.co/t5-11b/resolve/main/tokenizer.json\"\n",
    "    \n",
    "}\n",
    "\n",
    "class T5Tokenizer():\n",
    "    def __init__(\n",
    "        self,\n",
    "        tokenizer_file=None,\n",
    "    ):\n",
    "        if tokenizer_file != None:\n",
    "            self._tokenizer = Tokenizer(models.Unigram()).from_file(tokenizer_file)\n",
    "\n",
    "    def __call__(self, text_input):\n",
    "        return super().__call__(text_input)\n",
    "\n",
    "    @classmethod\n",
    "    def from_pretrained(cls, size:str):\n",
    "        cache_dir = os.path.join(DEFAULT_ROOT, \"tokenizers\", size)\n",
    "        path, _ = cache_file(None, url=URL[size], cache_dir=cache_dir)\n",
    "        tokenizer = cls(tokenizer_file=str(path))\n",
    "        return tokenizer\n",
    "\n",
    "    def encode(self, text_input):\n",
    "        tokens = self._tokenizer.encode(text_input)\n",
    "        return tokens\n",
    "\n",
    "    def decode(self, ids: list):\n",
    "        return self.decode(ids)"
   ]
  },
  {
   "cell_type": "code",
   "execution_count": 9,
   "metadata": {},
   "outputs": [
    {
     "name": "stdout",
     "output_type": "stream",
     "text": [
      "[493, 1896, 3745, 24, 3251, 54, 20020, 147, 762, 19, 16, 1402, 8, 4016, 7750, 1]\n",
      "[493, 1896, 3745, 24, 3251, 54, 20020, 147, 762, 19, 16, 1402, 8, 4016, 7750, 1]\n",
      "[1, 1, 1, 1, 1, 1, 1, 1, 1, 1, 1, 1, 1, 1, 1, 1]\n",
      "[1, 1, 1, 1, 1, 1, 1, 1, 1, 1, 1, 1, 1, 1, 1, 1]\n",
      "Believing that faith can triumph over everything is in itself the greatest belief</s>\n",
      "Believing that faith can triumph over everything is in itself the greatest belief\n"
     ]
    }
   ],
   "source": [
    "from mindnlp.transforms import T5Tokenizer\n",
    "from transformers import T5TokenizerFast\n",
    "\n",
    "pt_tokenizer = T5TokenizerFast.from_pretrained('t5-base')\n",
    "ms_tokenizer = T5Tokenizer.from_pretrained('t5-base')\n",
    "\n",
    "text = \"Believing that faith can triumph over everything is in itself the greatest belief\"\n",
    "\n",
    "print(pt_tokenizer.encode(text))\n",
    "print(ms_tokenizer.encode(text).ids)\n",
    "\n",
    "print(pt_tokenizer(text).attention_mask)\n",
    "print(ms_tokenizer.encode(text).attention_mask)\n",
    "\n",
    "print(pt_tokenizer.decode(pt_tokenizer.encode(text)))\n",
    "print(ms_tokenizer.decode(ms_tokenizer.encode(text).ids))"
   ]
  },
  {
   "cell_type": "code",
   "execution_count": 10,
   "metadata": {},
   "outputs": [
    {
     "name": "stdout",
     "output_type": "stream",
     "text": [
      "[3, 23, 143, 3, 9, 422, 6202, 116, 3, 23, 31, 51, 464, 55, 1]\n",
      "[   3   23  143    3    9  422 6202  116    3   23   31   51  464   55\n",
      "    1]\n"
     ]
    }
   ],
   "source": [
    "from mindnlp.transforms import T5Tokenizer\n",
    "from mindspore.dataset import GeneratorDataset\n",
    "from transformers import T5TokenizerFast\n",
    "\n",
    "pt_tokenizer = T5TokenizerFast.from_pretrained('t5-base')\n",
    "tokenizer = T5Tokenizer.from_pretrained('t5-base')\n",
    "texts = ['i make a small mistake when i\\'m working!']\n",
    "test_dataset = GeneratorDataset(texts, 'text')\n",
    "test_dataset = test_dataset.map(operations=tokenizer)\n",
    "dataset_after = next(test_dataset.create_tuple_iterator())[0]\n",
    "\n",
    "print(pt_tokenizer.encode(texts[0]))\n",
    "print(dataset_after)"
   ]
  }
 ],
 "metadata": {
  "kernelspec": {
   "display_name": "ljm",
   "language": "python",
   "name": "python3"
  },
  "language_info": {
   "codemirror_mode": {
    "name": "ipython",
    "version": 3
   },
   "file_extension": ".py",
   "mimetype": "text/x-python",
   "name": "python",
   "nbconvert_exporter": "python",
   "pygments_lexer": "ipython3",
   "version": "3.8.15"
  },
  "orig_nbformat": 4
 },
 "nbformat": 4,
 "nbformat_minor": 2
}
