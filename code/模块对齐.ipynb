{
 "cells": [
  {
   "cell_type": "code",
   "execution_count": 34,
   "metadata": {},
   "outputs": [
    {
     "data": {
      "text/plain": [
       "'\\nT5Attention模块对齐\\n'"
      ]
     },
     "execution_count": 34,
     "metadata": {},
     "output_type": "execute_result"
    }
   ],
   "source": [
    "r\"\"\"\n",
    "T5Attention模块对齐\n",
    "\"\"\""
   ]
  },
  {
   "cell_type": "code",
   "execution_count": 35,
   "metadata": {},
   "outputs": [],
   "source": [
    "# select device\n",
    "import os \n",
    "os.environ['CUDA_VISIBLE_DEVICES'] = '1'"
   ]
  },
  {
   "cell_type": "code",
   "execution_count": 36,
   "metadata": {},
   "outputs": [],
   "source": [
    "import torch, mindspore\n",
    "import numpy as np\n",
    "from transformers.models.t5 import modeling_t5 as pt\n",
    "import mindnlp.models.t5 as m"
   ]
  },
  {
   "cell_type": "code",
   "execution_count": 37,
   "metadata": {},
   "outputs": [
    {
     "data": {
      "text/plain": [
       "T5Attention(\n",
       "  (q): Linear(in_features=512, out_features=512, bias=False)\n",
       "  (k): Linear(in_features=512, out_features=512, bias=False)\n",
       "  (v): Linear(in_features=512, out_features=512, bias=False)\n",
       "  (o): Linear(in_features=512, out_features=512, bias=False)\n",
       "  (relative_attention_bias): Embedding(32, 8)\n",
       ")"
      ]
     },
     "execution_count": 37,
     "metadata": {},
     "output_type": "execute_result"
    }
   ],
   "source": [
    "# init config\n",
    "ms_config = m.T5Config()\n",
    "pt_config = pt.T5Config()\n",
    "\n",
    "# init model\n",
    "ms_model = m.T5Attention(ms_config, has_relative_attention_bias=True)\n",
    "pt_model = pt.T5Attention(pt_config, has_relative_attention_bias=True)"
   ]
  },
  {
   "cell_type": "code",
   "execution_count": 38,
   "metadata": {},
   "outputs": [
    {
     "name": "stdout",
     "output_type": "stream",
     "text": [
      "q.weight\n",
      "k.weight\n",
      "v.weight\n",
      "o.weight\n",
      "relative_attention_bias.weight\n"
     ]
    }
   ],
   "source": [
    "# print pt_model parameters' name\n",
    "pt_params = pt_model.state_dict()\n",
    "for key in pt_params.keys():\n",
    "    print(key)"
   ]
  },
  {
   "cell_type": "code",
   "execution_count": 39,
   "metadata": {},
   "outputs": [
    {
     "name": "stdout",
     "output_type": "stream",
     "text": [
      "q.weight\n",
      "k.weight\n",
      "v.weight\n",
      "o.weight\n",
      "relative_attention_bias.embedding_table\n"
     ]
    }
   ],
   "source": [
    "# print ms_model parameters' name\n",
    "for key, _ in ms_model.parameters_and_names():\n",
    "    print(key)"
   ]
  },
  {
   "cell_type": "code",
   "execution_count": 40,
   "metadata": {},
   "outputs": [],
   "source": [
    "# load parameters\n",
    "for key, param in ms_model.parameters_and_names():\n",
    "    if 'embedding_table' in key:\n",
    "        key = key.replace('embedding_table', 'weight') # different name in two models\n",
    "    param.set_data(mindspore.Tensor(pt_params.get(key).detach().numpy()))"
   ]
  },
  {
   "cell_type": "code",
   "execution_count": null,
   "metadata": {},
   "outputs": [],
   "source": [
    "# set eval mode\n",
    "ms_model.set_train(False)\n",
    "pt_model.eval()"
   ]
  },
  {
   "cell_type": "code",
   "execution_count": 41,
   "metadata": {},
   "outputs": [],
   "source": [
    "# prepare data\n",
    "x = np.random.randn(4, 64, 512)\n",
    "ms_x = mindspore.Tensor(x, dtype=mindspore.float32) # dtype depends on model\n",
    "pt_x = torch.tensor(x, dtype=torch.float32)         # sometimes maybe int not float"
   ]
  },
  {
   "cell_type": "code",
   "execution_count": 42,
   "metadata": {},
   "outputs": [],
   "source": [
    "# output\n",
    "ms_out = ms_model(ms_x)\n",
    "pt_out = pt_model(pt_x)"
   ]
  },
  {
   "cell_type": "code",
   "execution_count": 43,
   "metadata": {},
   "outputs": [
    {
     "name": "stdout",
     "output_type": "stream",
     "text": [
      "PASS\n"
     ]
    }
   ],
   "source": [
    "# shape & loss\n",
    "assert ms_out[0].shape == pt_out[0].shape\n",
    "# assert ms_out[1].shape == pt_out[1].shape # NoneType\n",
    "assert ms_out[2].shape == pt_out[2].shape\n",
    "assert np.allclose(ms_out[0].asnumpy(), pt_out[0].detach().numpy(), 1e-5, 1e-5)\n",
    "# assert np.allclose(ms_out[1].asnumpy(), pt_out[1].detach().numpy(), 1e-5, 1e-5) # NoneType\n",
    "assert np.allclose(ms_out[2].asnumpy(), pt_out[2].detach().numpy(), 1e-5, 1e-5)\n",
    "print(\"PASS\")"
   ]
  },
  {
   "cell_type": "code",
   "execution_count": 49,
   "metadata": {},
   "outputs": [],
   "source": [
    "def judge(o1, o2, loss = 1e-3, prefix = '-'):\n",
    "    prefix += '-'\n",
    "    if (isinstance(o1, tuple)):\n",
    "        for i in range(len(o1)):\n",
    "            judge(o1[i], o2[i], loss=loss, prefix=prefix)\n",
    "    elif (isinstance(o1,mindspore.Tensor)):\n",
    "        print(f\"{prefix}{np.allclose(o1.asnumpy(), o2.detach().numpy(), loss, loss)}\")\n",
    "    else:\n",
    "        print(f\"{type(o1)}-{type(o2)}:{o1==o2}\")"
   ]
  },
  {
   "cell_type": "code",
   "execution_count": 50,
   "metadata": {},
   "outputs": [
    {
     "name": "stdout",
     "output_type": "stream",
     "text": [
      "---True\n",
      "<class 'NoneType'>-<class 'NoneType'>:True\n",
      "---True\n"
     ]
    }
   ],
   "source": [
    "judge(ms_out, pt_out)"
   ]
  }
 ],
 "metadata": {
  "kernelspec": {
   "display_name": "ljm",
   "language": "python",
   "name": "python3"
  },
  "language_info": {
   "codemirror_mode": {
    "name": "ipython",
    "version": 3
   },
   "file_extension": ".py",
   "mimetype": "text/x-python",
   "name": "python",
   "nbconvert_exporter": "python",
   "pygments_lexer": "ipython3",
   "version": "3.8.15"
  },
  "orig_nbformat": 4
 },
 "nbformat": 4,
 "nbformat_minor": 2
}
