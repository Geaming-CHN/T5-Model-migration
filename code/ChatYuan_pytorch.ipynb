{
 "cells": [
  {
   "cell_type": "code",
   "execution_count": 1,
   "metadata": {},
   "outputs": [],
   "source": [
    "import os\n",
    "\n",
    "os.environ['HTTP_PROXY'] = 'http://172.26.1.159:1090'\n",
    "os.environ['HTTPS_PROXY'] = 'http://172.26.1.159:1090'\n",
    "\n",
    "os.environ[\"CUDA_VISIBLE_DEVICES\"] = \"6\""
   ]
  },
  {
   "cell_type": "code",
   "execution_count": 2,
   "metadata": {},
   "outputs": [],
   "source": [
    "def preprocess(text):\n",
    "  text = text.replace(\"\\n\", \"\\\\n\").replace(\"\\t\", \"\\\\t\")\n",
    "  return text\n",
    "\n",
    "def postprocess(text):\n",
    "  return text.replace(\"\\\\n\", \"\\n\").replace(\"\\\\t\", \"\\t\").replace('%20','  ')"
   ]
  },
  {
   "cell_type": "code",
   "execution_count": 3,
   "metadata": {},
   "outputs": [],
   "source": [
    "text = \"美国的首都是哪座城市\"\n",
    "text = f\"用户：{text}\\n小元：\"\n",
    "text = text.strip()\n",
    "text = preprocess(text)"
   ]
  },
  {
   "cell_type": "code",
   "execution_count": 4,
   "metadata": {},
   "outputs": [
    {
     "name": "stderr",
     "output_type": "stream",
     "text": [
      "/home/geaming/anaconda3/envs/mindspore/lib/python3.9/site-packages/tqdm/auto.py:21: TqdmWarning: IProgress not found. Please update jupyter and ipywidgets. See https://ipywidgets.readthedocs.io/en/stable/user_install.html\n",
      "  from .autonotebook import tqdm as notebook_tqdm\n"
     ]
    }
   ],
   "source": [
    "# load tokenizer and model\n",
    "\n",
    "from transformers import T5Tokenizer, T5ForConditionalGeneration\n",
    "\n",
    "tokenizer = T5Tokenizer.from_pretrained(\"ClueAI/ChatYuan-large-v2\")\n",
    "model = T5ForConditionalGeneration.from_pretrained(\"ClueAI/ChatYuan-large-v2\")"
   ]
  },
  {
   "cell_type": "code",
   "execution_count": 5,
   "metadata": {},
   "outputs": [
    {
     "name": "stdout",
     "output_type": "stream",
     "text": [
      "====================encoding对齐====================\n",
      "tensor([[   12,   623,     5, 11026,  4627,    15,  1843,   939,   399,     7,\n",
      "            51,   158,     5,     1]])\n"
     ]
    }
   ],
   "source": [
    "# encoding对齐\n",
    "print(\"encoding对齐\".center(50, \"=\"))\n",
    "encoding = tokenizer(text=[text], truncation=True, padding=True, max_length=1024, return_tensors=\"pt\")\n",
    "print(encoding['input_ids'])"
   ]
  },
  {
   "cell_type": "code",
   "execution_count": 6,
   "metadata": {},
   "outputs": [
    {
     "name": "stdout",
     "output_type": "stream",
     "text": [
      "=====================model对齐======================\n"
     ]
    },
    {
     "name": "stdout",
     "output_type": "stream",
     "text": [
      "tensor([[    0, 14958,    10,  4627,    15, 11646, 14376,     6,     1]])\n"
     ]
    }
   ],
   "source": [
    "# model对齐\n",
    "print(\"model对齐\".center(50, \"=\"))\n",
    "out = model.generate(**encoding, return_dict_in_generate=True, output_scores=False, max_new_tokens=1024, num_beams=1, length_penalty=0.6)\n",
    "print(out[\"sequences\"])"
   ]
  },
  {
   "cell_type": "code",
   "execution_count": 7,
   "metadata": {},
   "outputs": [
    {
     "name": "stdout",
     "output_type": "stream",
     "text": [
      "====================decoding对齐====================\n",
      "美国的首都是华盛顿特区。\n"
     ]
    }
   ],
   "source": [
    "# decoding对齐\n",
    "print(\"decoding对齐\".center(50, \"=\"))\n",
    "out_text = tokenizer.batch_decode(out[\"sequences\"], skip_special_tokens=True)\n",
    "print(out_text[0])"
   ]
  }
 ],
 "metadata": {
  "kernelspec": {
   "display_name": "py310",
   "language": "python",
   "name": "python3"
  },
  "language_info": {
   "codemirror_mode": {
    "name": "ipython",
    "version": 3
   },
   "file_extension": ".py",
   "mimetype": "text/x-python",
   "name": "python",
   "nbconvert_exporter": "python",
   "pygments_lexer": "ipython3",
   "version": "3.9.18"
  },
  "orig_nbformat": 4
 },
 "nbformat": 4,
 "nbformat_minor": 2
}
